{
 "cells": [
  {
   "cell_type": "code",
   "execution_count": 1,
   "metadata": {},
   "outputs": [
    {
     "ename": "ModuleNotFoundError",
     "evalue": "No module named 'config'",
     "output_type": "error",
     "traceback": [
      "\u001b[1;31m---------------------------------------------------------------------------\u001b[0m",
      "\u001b[1;31mModuleNotFoundError\u001b[0m                       Traceback (most recent call last)",
      "\u001b[1;32m<ipython-input-1-7921a86d002c>\u001b[0m in \u001b[0;36m<module>\u001b[1;34m\u001b[0m\n\u001b[0;32m      2\u001b[0m \u001b[1;32mfrom\u001b[0m \u001b[0msqlalchemy\u001b[0m \u001b[1;32mimport\u001b[0m \u001b[0mcreate_engine\u001b[0m\u001b[1;33m\u001b[0m\u001b[1;33m\u001b[0m\u001b[0m\n\u001b[0;32m      3\u001b[0m \u001b[1;32mimport\u001b[0m \u001b[0mrequests\u001b[0m\u001b[1;33m\u001b[0m\u001b[1;33m\u001b[0m\u001b[0m\n\u001b[1;32m----> 4\u001b[1;33m \u001b[1;32mfrom\u001b[0m \u001b[0mconfig\u001b[0m \u001b[1;32mimport\u001b[0m \u001b[0mcensus_api_key\u001b[0m\u001b[1;33m,\u001b[0m \u001b[0mmysql_pw\u001b[0m\u001b[1;33m\u001b[0m\u001b[1;33m\u001b[0m\u001b[0m\n\u001b[0m",
      "\u001b[1;31mModuleNotFoundError\u001b[0m: No module named 'config'"
     ]
    }
   ],
   "source": [
    "# Import dependencies\n",
    "import pandas as pd\n",
    "from sqlalchemy import create_engine\n",
    "import requests\n",
    "from config import census_api_key, mysql_pw"
   ]
  },
  {
   "cell_type": "markdown",
   "metadata": {},
   "source": [
    "# Loading public health statistics for cities to dataframe\n",
    "\n",
    "**Source:** Kaggle (https://www.kaggle.com/cdc/500-cities)\n",
    "\n",
    "**Description:** This data was collected by Centers for Disease Control and Prevention, National Center for Chronic Disease Prevention and Health Promotion, Division of Population Health (2016)\n",
    "\n",
    "**Data collection and preparation credit:** David Chen"
   ]
  },
  {
   "cell_type": "code",
   "execution_count": null,
   "metadata": {},
   "outputs": [],
   "source": [
    "cdc_file = \"data/500_Cities_CDC.csv\"\n",
    "cdc_data_df = pd.read_csv(cdc_file)\n",
    "cdc_data_df.head()"
   ]
  },
  {
   "cell_type": "code",
   "execution_count": null,
   "metadata": {},
   "outputs": [],
   "source": [
    "cdc_data_df.columns.tolist()"
   ]
  },
  {
   "cell_type": "code",
   "execution_count": null,
   "metadata": {},
   "outputs": [],
   "source": [
    "column_list = ['ACCESS2_CrudePrev',\n",
    " 'ACCESS2_Crude95CI',\n",
    " 'ACCESS2_AdjPrev',\n",
    " 'ACCESS2_Adj95CI',\n",
    " 'ARTHRITIS_CrudePrev',\n",
    " 'ARTHRITIS_Crude95CI',\n",
    " 'ARTHRITIS_AdjPrev',\n",
    " 'ARTHRITIS_Adj95CI',\n",
    " 'BINGE_CrudePrev',\n",
    " 'BINGE_Crude95CI',\n",
    " 'BINGE_AdjPrev',\n",
    " 'BINGE_Adj95CI',\n",
    " 'BPHIGH_CrudePrev',\n",
    " 'BPHIGH_Crude95CI',\n",
    " 'BPHIGH_AdjPrev',\n",
    " 'BPHIGH_Adj95CI',\n",
    " 'BPMED_CrudePrev',\n",
    " 'BPMED_Crude95CI',\n",
    " 'BPMED_AdjPrev',\n",
    " 'BPMED_Adj95CI',\n",
    " 'CANCER_CrudePrev',\n",
    " 'CANCER_Crude95CI',\n",
    " 'CANCER_AdjPrev',\n",
    " 'CANCER_Adj95CI',\n",
    " 'CASTHMA_CrudePrev',\n",
    " 'CASTHMA_Crude95CI',\n",
    " 'CASTHMA_AdjPrev',\n",
    " 'CASTHMA_Adj95CI',\n",
    " 'CHD_CrudePrev',\n",
    " 'CHD_Crude95CI',\n",
    " 'CHD_AdjPrev',\n",
    " 'CHD_Adj95CI',\n",
    " 'CHECKUP_CrudePrev',\n",
    " 'CHECKUP_Crude95CI',\n",
    " 'CHECKUP_AdjPrev',\n",
    " 'CHECKUP_Adj95CI',\n",
    " 'CHOLSCREEN_CrudePrev',\n",
    " 'CHOLSCREEN_Crude95CI',\n",
    " 'CHOLSCREEN_AdjPrev',\n",
    " 'CHOLSCREEN_Adj95CI',\n",
    " 'COLON_SCREEN_CrudePrev',\n",
    " 'COLON_SCREEN_Crude95CI',\n",
    " 'COLON_SCREEN_AdjPrev',\n",
    " 'COLON_SCREEN_Adj95CI',\n",
    " 'COPD_CrudePrev',\n",
    " 'COPD_Crude95CI',\n",
    " 'COPD_AdjPrev',\n",
    " 'COPD_Adj95CI',\n",
    " 'COREM_CrudePrev',\n",
    " 'COREM_Crude95CI',\n",
    " 'COREM_AdjPrev',\n",
    " 'COREM_Adj95CI',\n",
    " 'COREW_CrudePrev',\n",
    " 'COREW_Crude95CI',\n",
    " 'COREW_AdjPrev',\n",
    " 'COREW_Adj95CI',\n",
    " 'CSMOKING_CrudePrev',\n",
    " 'CSMOKING_Crude95CI',\n",
    " 'CSMOKING_AdjPrev',\n",
    " 'CSMOKING_Adj95CI',\n",
    " 'DENTAL_CrudePrev',\n",
    " 'DENTAL_Crude95CI',\n",
    " 'DENTAL_AdjPrev',\n",
    " 'DENTAL_Adj95CI',\n",
    " 'DIABETES_CrudePrev',\n",
    " 'DIABETES_Crude95CI',\n",
    " 'DIABETES_AdjPrev',\n",
    " 'DIABETES_Adj95CI',\n",
    " 'HIGHCHOL_CrudePrev',\n",
    " 'HIGHCHOL_Crude95CI',\n",
    " 'HIGHCHOL_AdjPrev',\n",
    " 'HIGHCHOL_Adj95CI',\n",
    " 'KIDNEY_CrudePrev',\n",
    " 'KIDNEY_Crude95CI',\n",
    " 'KIDNEY_AdjPrev',\n",
    " 'KIDNEY_Adj95CI',\n",
    " 'LPA_CrudePrev',\n",
    " 'LPA_Crude95CI',\n",
    " 'LPA_AdjPrev',\n",
    " 'LPA_Adj95CI',\n",
    " 'MAMMOUSE_CrudePrev',\n",
    " 'MAMMOUSE_Crude95CI',\n",
    " 'MAMMOUSE_AdjPrev',\n",
    " 'MAMMOUSE_Adj95CI',\n",
    " 'MHLTH_CrudePrev',\n",
    " 'MHLTH_Crude95CI',\n",
    " 'MHLTH_AdjPrev',\n",
    " 'MHLTH_Adj95CI',\n",
    " 'OBESITY_CrudePrev',\n",
    " 'OBESITY_Crude95CI',\n",
    " 'OBESITY_AdjPrev',\n",
    " 'OBESITY_Adj95CI',\n",
    " 'PAPTEST_CrudePrev',\n",
    " 'PAPTEST_Crude95CI',\n",
    " 'PAPTEST_AdjPrev',\n",
    " 'PAPTEST_Adj95CI',\n",
    " 'PHLTH_CrudePrev',\n",
    " 'PHLTH_Crude95CI',\n",
    " 'PHLTH_AdjPrev',\n",
    " 'PHLTH_Adj95CI',\n",
    " 'SLEEP_CrudePrev',\n",
    " 'SLEEP_Crude95CI',\n",
    " 'SLEEP_AdjPrev',\n",
    " 'SLEEP_Adj95CI',\n",
    " 'STROKE_CrudePrev',\n",
    " 'STROKE_Crude95CI',\n",
    " 'STROKE_AdjPrev',\n",
    " 'STROKE_Adj95CI',\n",
    " 'TEETHLOST_CrudePrev',\n",
    " 'TEETHLOST_Crude95CI',\n",
    " 'TEETHLOST_AdjPrev',\n",
    " 'TEETHLOST_Adj95CI']\n",
    "print(column_list)"
   ]
  },
  {
   "cell_type": "code",
   "execution_count": null,
   "metadata": {},
   "outputs": [],
   "source": [
    "len(column_list)"
   ]
  },
  {
   "cell_type": "code",
   "execution_count": null,
   "metadata": {},
   "outputs": [],
   "source": [
    "for x in range (len(column_list)):\n",
    "    if x % 4 == 2:\n",
    "        print (column_list[x])\n",
    "        "
   ]
  },
  {
   "cell_type": "code",
   "execution_count": null,
   "metadata": {},
   "outputs": [],
   "source": [
    "new_cdc_data_df = cdc_data_df[[\"StateAbbr\",\n",
    "\"PlaceName\",\n",
    "\"PlaceFIPS\",\n",
    "\"ACCESS2_AdjPrev\",\n",
    "\"ARTHRITIS_AdjPrev\",\n",
    "\"BINGE_AdjPrev\",\n",
    "\"BPHIGH_AdjPrev\",\n",
    "\"BPMED_AdjPrev\",\n",
    "\"CANCER_AdjPrev\",\n",
    "\"CASTHMA_AdjPrev\",\n",
    "\"CHD_AdjPrev\",\n",
    "\"CHECKUP_AdjPrev\",\n",
    "\"CHOLSCREEN_AdjPrev\",\n",
    "\"COLON_SCREEN_AdjPrev\",\n",
    "\"COPD_AdjPrev\",\n",
    "\"COREM_AdjPrev\",\n",
    "\"COREW_AdjPrev\",\n",
    "\"CSMOKING_AdjPrev\",\n",
    "\"DENTAL_AdjPrev\",\n",
    "\"DIABETES_AdjPrev\",\n",
    "\"HIGHCHOL_AdjPrev\",\n",
    "\"KIDNEY_AdjPrev\",\n",
    "\"LPA_AdjPrev\",\n",
    "\"MAMMOUSE_AdjPrev\",\n",
    "\"MHLTH_AdjPrev\",\n",
    "\"OBESITY_AdjPrev\",\n",
    "\"PAPTEST_AdjPrev\",\n",
    "\"PHLTH_AdjPrev\",\n",
    "\"SLEEP_AdjPrev\",\n",
    "\"STROKE_AdjPrev\",\n",
    "\"TEETHLOST_AdjPrev\"]].copy()\n",
    "new_cdc_data_df.head()"
   ]
  },
  {
   "cell_type": "code",
   "execution_count": null,
   "metadata": {},
   "outputs": [],
   "source": [
    "new_cdc_data_df_1 = new_cdc_data_df.rename(columns={\"StateAbbr\": \"State\",\n",
    "\"PlaceName\": \"City\",\n",
    "\"PlaceFIPS\": \"PlaceFIPS\",\n",
    "\"ACCESS2_AdjPrev\": \"ACCESS2\",\n",
    "\"ARTHRITIS_AdjPrev\" :\"ARTHRITIS\",\n",
    "\"BINGE_AdjPrev\" :\"BINGE\",\n",
    "\"BPHIGH_AdjPrev\" :\"BPHIGH\",\n",
    "\"BPMED_AdjPrev\" :\"BPMED\",\n",
    "\"CANCER_AdjPrev\" :\"CANCER\",\n",
    "\"CASTHMA_AdjPrev\" :\"CASTHMA\",\n",
    "\"CHD_AdjPrev\" :\"CHD\",\n",
    "\"CHECKUP_AdjPrev\" :\"CHECKUP\",\n",
    "\"CHOLSCREEN_AdjPrev\" :\"CHOLSCREEN\",\n",
    "\"COLON_SCREEN_AdjPrev\" :\"COLON_SCREEN\",\n",
    "\"COPD_AdjPrev\" :\"COPD\",\n",
    "\"COREM_AdjPrev\" :\"COREM\",\n",
    "\"COREW_AdjPrev\" :\"COREW\",\n",
    "\"CSMOKING_AdjPrev\" :\"CSMOKING\",\n",
    "\"DENTAL_AdjPrev\" :\"DENTAL\",\n",
    "\"DIABETES_AdjPrev\" :\"DIABETES\",\n",
    "\"HIGHCHOL_AdjPrev\" :\"HIGHCHOL\",\n",
    "\"KIDNEY_AdjPrev\" :\"KIDNEY\",\n",
    "\"LPA_AdjPrev\" :\"LPA\",\n",
    "\"MAMMOUSE_AdjPrev\" :\"MAMMOUSE\",\n",
    "\"MHLTH_AdjPrev\" :\"MHLTH\",\n",
    "\"OBESITY_AdjPrev\" :\"OBESITY\",\n",
    "\"PAPTEST_AdjPrev\" :\"PAPTEST\",\n",
    "\"PHLTH_AdjPrev\" :\"PHLTH\",\n",
    "\"SLEEP_AdjPrev\" :\"SLEEP\",\n",
    "\"STROKE_AdjPrev\" :\"STROKE\",\n",
    "\"TEETHLOST_AdjPrev\" :\"TEETHLOST\"    \n",
    "})\n",
    "new_cdc_data_df_1.head()"
   ]
  },
  {
   "cell_type": "code",
   "execution_count": null,
   "metadata": {},
   "outputs": [],
   "source": [
    "place_fips = new_cdc_data_df_1[\"PlaceFIPS\"].tolist()\n",
    "print (place_fips)"
   ]
  },
  {
   "cell_type": "code",
   "execution_count": null,
   "metadata": {},
   "outputs": [],
   "source": [
    "for y in place_fips:\n",
    "    print (str(y)[-5:])"
   ]
  },
  {
   "cell_type": "code",
   "execution_count": null,
   "metadata": {},
   "outputs": [],
   "source": [
    "new_cdc_data_df_1.to_csv(\"data/500_Cities_CDC_Disease_Columns.csv\", encoding='utf-8',index= False)"
   ]
  },
  {
   "cell_type": "code",
   "execution_count": null,
   "metadata": {},
   "outputs": [],
   "source": [
    "cdc_file_update_column = \"data/500_Cities_CDC_Disease_Columns.csv\"\n",
    "cdc_data_df_update_column = pd.read_csv(cdc_file_update_column)\n",
    "cdc_data_df_update_column.head()"
   ]
  },
  {
   "cell_type": "markdown",
   "metadata": {},
   "source": [
    "# Loading Census Data\n",
    "\n",
    "**Source:** Census API (https://api.census.gov)\n",
    "\n",
    "**Description:** This data was called by county FIPS for all\n",
    "\n",
    "**Census data collection and preparation:** Steve Bogdan"
   ]
  },
  {
   "cell_type": "code",
   "execution_count": null,
   "metadata": {},
   "outputs": [],
   "source": [
    "url = \"https://api.census.gov/data/2017/acs/acs5?get=B01003_001E,B01001_020E,B01001_021E,B01001_022E,B01001_023E,B01001_024E,B01001_025E,B01001_044E,B01001_045E,B01001_046E,B01001_047E,B01001_048E,B01001_049E,B02001_002E,B02001_003E,B02001_004E,B02001_005E,B02001_006E,B02001_007E,B01001I_001E,B09020_001E,B15003_002E,B15003_017E,B15003_022E,B15003_023E,B15003_025E,B17001_002E,B27001_002E,B27001_030E,NAME&for=place:*&key=\" + census_api_key\n",
    "\n",
    "response = requests.get(url)\n",
    "response_json = response.json()\n",
    "\n",
    "census_df = pd.DataFrame(response_json)\n",
    "\n",
    "census_df.columns = census_df.iloc[0]\n",
    "census_df = census_df[1:]\n",
    "\n",
    "census_df.head()"
   ]
  },
  {
   "cell_type": "code",
   "execution_count": null,
   "metadata": {},
   "outputs": [],
   "source": [
    "column_names = {\"B01003_001E\":\"total_pop\", \"B01001_020E\":\"male_65_66\", \"B01001_021E\":\"male_67_69\",\n",
    "                \"B01001_022E\":\"male_70_74\", \"B01001_023E\":\"male_75_79\", \"B01001_024E\":\"male_80_84\",\n",
    "                \"B01001_025E\":\"male_over_85\", \"B01001_044E\":\"female_65_66\", \"B01001_045E\":\"female_67_69\",\n",
    "                \"B01001_046E\":\"female_70_74\", \"B01001_047E\":\"female_75_79\", \"B01001_048E\":\"female_80_84\",\n",
    "                \"B01001_049E\":\"female_over_85\", \"B02001_002E\":\"white_pop\", \"B02001_003E\":\"black_pop\",\n",
    "                \"B02001_004E\":\"native_amer_pop\", \"B02001_005E\":\"asian_pop\", \"B02001_006E\":\"pac_island_pop\",\n",
    "                \"B02001_007E\":\"other_race_pop\", \"B01001I_001E\":\"hispanic_pop\", \"B15003_002E\":\"no_high_school\",\n",
    "                \"B15003_017E\":\"high_school_grad\", \"B15003_022E\":\"bachelor_deg\", \"B15003_023E\":\"master_deg\", \n",
    "                \"B15003_025E\":\"doctorate_deg\", \"B17001_002E\":\"below_poverty\", \"B27001_002E\":\"male_w_health_ins\",\n",
    "                \"B27001_030E\":\"female_w_health_ins\", \"place\":\"city_FIPS\"}\n",
    "\n",
    "census_df.rename(columns=column_names, \n",
    "                 inplace=True)\n"
   ]
  },
  {
   "cell_type": "code",
   "execution_count": null,
   "metadata": {},
   "outputs": [],
   "source": [
    "for column in census_df.iloc[:, 0:29]:\n",
    "    census_df[column] = pd.to_numeric(census_df[column])\n",
    "    \n",
    "census_df[\"with_health_ins\"] = census_df[\"male_w_health_ins\"] + census_df[\"female_w_health_ins\"]\n",
    "census_df.head()"
   ]
  },
  {
   "cell_type": "code",
   "execution_count": null,
   "metadata": {},
   "outputs": [],
   "source": [
    "census_df[\"city_FIPS\"] = census_df[\"state\"] + census_df[\"city_FIPS\"]\n",
    "census_df.head()"
   ]
  },
  {
   "cell_type": "code",
   "execution_count": null,
   "metadata": {},
   "outputs": [],
   "source": [
    "census_df[\"pop_over_65\"] = census_df.iloc[:,1:13].sum(axis=1)\n",
    "census_df[\"with_degree\"] = census_df.iloc[:, 23:26].sum(axis=1)"
   ]
  },
  {
   "cell_type": "code",
   "execution_count": null,
   "metadata": {},
   "outputs": [],
   "source": [
    "census_demographics_df=census_df[[\"total_pop\", \"with_health_ins\", \"pop_over_65\", \"white_pop\", \"black_pop\", \"native_amer_pop\",\n",
    "                                \"asian_pop\", \"pac_island_pop\", \"other_race_pop\", \"hispanic_pop\", \"no_high_school\",\n",
    "                                \"high_school_grad\", \"with_degree\", \"below_poverty\", \"city_FIPS\"]]\n",
    "\n",
    "census_demographics_df.head()"
   ]
  },
  {
   "cell_type": "code",
   "execution_count": null,
   "metadata": {},
   "outputs": [],
   "source": [
    "for column in census_demographics_df.iloc[:, 1:14]:\n",
    "    census_demographics_df[column] = census_demographics_df[column]/census_demographics_df.iloc[:,0]\n",
    "\n",
    "census_demographics_df.head()"
   ]
  },
  {
   "cell_type": "markdown",
   "metadata": {},
   "source": [
    "# DataBase Creation and Upload\n",
    "\n",
    "We use MySQL database to store and aggregate the data\n",
    "\n",
    "**Database creation:** Brian E Reyes, Olesya Bondarenko"
   ]
  },
  {
   "cell_type": "code",
   "execution_count": null,
   "metadata": {},
   "outputs": [],
   "source": [
    "# Connect to MySQL\n",
    "connection_string = f'root:{mysql_pw}@localhost/'\n",
    "engine = create_engine(f'mysql://{connection_string}')\n",
    "connection = engine.connect()"
   ]
  },
  {
   "cell_type": "code",
   "execution_count": null,
   "metadata": {},
   "outputs": [],
   "source": [
    "# Create a new empty database\n",
    "connection.execute('create schema city_health_demograhics;')"
   ]
  },
  {
   "cell_type": "code",
   "execution_count": null,
   "metadata": {},
   "outputs": [],
   "source": [
    "# Create a connection to the new database\n",
    "db_connection_string = f\"root:{mysql_pw}@localhost/City_Health_Demographics\"\n",
    "db_engine = create_engine(f'mysql://{db_connection_string}')"
   ]
  },
  {
   "cell_type": "code",
   "execution_count": null,
   "metadata": {},
   "outputs": [],
   "source": [
    "# Push the transformed CDC 500 US city data to the 'city_health_demographics' database. \n",
    "# It will be stored as a new table called 'city_health'\n",
    "cdc_data_df_update_column.to_sql(name='City_Health', con=db_engine, if_exists='append', index=False)"
   ]
  },
  {
   "cell_type": "code",
   "execution_count": null,
   "metadata": {},
   "outputs": [],
   "source": [
    "# Push the transformed Census data to the 'city_health_demographics' database. \n",
    "# It will be stored as a new table called 'city_demographics'\n",
    "census_demographics_df.to_sql(name='City_Demographics', con=db_engine, if_exists='append', index=True)"
   ]
  },
  {
   "cell_type": "code",
   "execution_count": null,
   "metadata": {},
   "outputs": [],
   "source": [
    "# Confirm tables\n",
    "db_engine.table_names()"
   ]
  },
  {
   "cell_type": "code",
   "execution_count": null,
   "metadata": {},
   "outputs": [],
   "source": [
    "# Perform an inner join on the city FIPS codes using MySQL query\n",
    "# This results in creation of a new aggregated table, named 'city_health_demographics'\n",
    "db_engine.execute('''create table city_health_demographics\n",
    "                    select cd.*, ch.*\n",
    "                    from city_demographics cd\n",
    "                    inner join city_health ch\n",
    "                    on cd.city_FIPS = ch.PlaceFIPS;''')"
   ]
  }
 ],
 "metadata": {
  "kernelspec": {
   "display_name": "Python 3",
   "language": "python",
   "name": "python3"
  },
  "language_info": {
   "codemirror_mode": {
    "name": "ipython",
    "version": 3
   },
   "file_extension": ".py",
   "mimetype": "text/x-python",
   "name": "python",
   "nbconvert_exporter": "python",
   "pygments_lexer": "ipython3",
   "version": "3.7.3"
  }
 },
 "nbformat": 4,
 "nbformat_minor": 2
}
